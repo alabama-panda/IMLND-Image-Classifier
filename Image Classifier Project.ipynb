{
 "cells": [
  {
   "cell_type": "markdown",
   "metadata": {},
   "source": [
    "# Developing an AI application\n",
    "\n",
    "Going forward, AI algorithms will be incorporated into more and more everyday applications. For example, you might want to include an image classifier in a smart phone app. To do this, you'd use a deep learning model trained on hundreds of thousands of images as part of the overall application architecture. A large part of software development in the future will be using these types of models as common parts of applications. \n",
    "\n",
    "In this project, you'll train an image classifier to recognize different species of flowers. You can imagine using something like this in a phone app that tells you the name of the flower your camera is looking at. In practice you'd train this classifier, then export it for use in your application. We'll be using [this dataset](http://www.robots.ox.ac.uk/~vgg/data/flowers/102/index.html) of 102 flower categories, you can see a few examples below. \n",
    "\n",
    "<img src='assets/Flowers.png' width=500px>\n",
    "\n",
    "The project is broken down into multiple steps:\n",
    "\n",
    "* Load and preprocess the image dataset\n",
    "* Train the image classifier on your dataset\n",
    "* Use the trained classifier to predict image content\n",
    "\n",
    "We'll lead you through each part which you'll implement in Python.\n",
    "\n",
    "When you've completed this project, you'll have an application that can be trained on any set of labeled images. Here your network will be learning about flowers and end up as a command line application. But, what you do with your new skills depends on your imagination and effort in building a dataset. For example, imagine an app where you take a picture of a car, it tells you what the make and model is, then looks up information about it. Go build your own dataset and make something new.\n",
    "\n",
    "First up is importing the packages you'll need. It's good practice to keep all the imports at the beginning of your code. As you work through this notebook and find you need to import a package, make sure to add the import up here."
   ]
  },
  {
   "cell_type": "code",
   "execution_count": 21,
   "metadata": {},
   "outputs": [],
   "source": [
    "# Imports here\n",
    "%matplotlib inline\n",
    "%config InlineBackend.figure_format = 'retina'\n",
    "\n",
    "import numpy as np\n",
    "\n",
    "import matplotlib.pyplot as plt\n",
    "\n",
    "import torch\n",
    "from torch import nn, optim\n",
    "import torch.nn.functional as F\n",
    "from torch.optim.lr_scheduler import StepLR\n",
    "from torchvision import datasets, transforms, models\n",
    "from torchvision.utils import make_grid\n",
    "import torch.multiprocessing\n",
    "\n",
    "from collections import OrderedDict"
   ]
  },
  {
   "cell_type": "markdown",
   "metadata": {},
   "source": [
    "## Load the data\n",
    "\n",
    "Here you'll use `torchvision` to load the data ([documentation](http://pytorch.org/docs/0.3.0/torchvision/index.html)). The data should be included alongside this notebook, otherwise you can [download it here](https://s3.amazonaws.com/content.udacity-data.com/nd089/flower_data.tar.gz). The dataset is split into three parts, training, validation, and testing. For the training, you'll want to apply transformations such as random scaling, cropping, and flipping. This will help the network generalize leading to better performance. You'll also need to make sure the input data is resized to 224x224 pixels as required by the pre-trained networks.\n",
    "\n",
    "The validation and testing sets are used to measure the model's performance on data it hasn't seen yet. For this you don't want any scaling or rotation transformations, but you'll need to resize then crop the images to the appropriate size.\n",
    "\n",
    "The pre-trained networks you'll use were trained on the ImageNet dataset where each color channel was normalized separately. For all three sets you'll need to normalize the means and standard deviations of the images to what the network expects. For the means, it's `[0.485, 0.456, 0.406]` and for the standard deviations `[0.229, 0.224, 0.225]`, calculated from the ImageNet images.  These values will shift each color channel to be centered at 0 and range from -1 to 1.\n",
    " "
   ]
  },
  {
   "cell_type": "code",
   "execution_count": 14,
   "metadata": {},
   "outputs": [],
   "source": [
    "data_dir = 'flowers'"
   ]
  },
  {
   "cell_type": "code",
   "execution_count": 15,
   "metadata": {},
   "outputs": [],
   "source": [
    "# TODO: Define your transforms for the training, validation, and testing sets\n",
    "norm_mean = [0.485, 0.456, 0.406]\n",
    "norm_std = [0.229, 0.224, 0.225]\n",
    "\n",
    "data_transforms = {\n",
    "    'train': transforms.Compose([\n",
    "        transforms.RandomRotation(30),\n",
    "        transforms.RandomResizedCrop(224),\n",
    "        transforms.RandomHorizontalFlip(),\n",
    "        transforms.ToTensor(),\n",
    "        transforms.Normalize(norm_mean, norm_std)\n",
    "    ]),\n",
    "    \n",
    "    'valid': transforms.Compose([\n",
    "        transforms.RandomResizedCrop(224),\n",
    "        transforms.ToTensor(),\n",
    "        transforms.Normalize(norm_mean, norm_std)\n",
    "    ]),\n",
    "    \n",
    "    'test': transforms.Compose([\n",
    "        transforms.RandomResizedCrop(224),\n",
    "        transforms.ToTensor(),\n",
    "        transforms.Normalize(norm_mean, norm_std)\n",
    "    ]),\n",
    "}\n",
    "\n",
    "\n",
    "image_datasets = {x: datasets.ImageFolder(data_dir + '/' + x, data_transforms[x]) \\\n",
    "                  for x in ['train', 'valid', 'test']}\n",
    "\n",
    "batch_sizes = {'train': 64, 'valid': 32, 'test': 20}\n",
    "\n",
    "dataloaders = {x: torch.utils.data.DataLoader(image_datasets[x], \n",
    "                                              batch_size=batch_sizes[x], \n",
    "                                              shuffle=True) \\\n",
    "               for x in ['train', 'valid', 'test']}\n",
    "\n",
    "dataset_sizes = {x: len(image_datasets[x]) for x in ['train', 'valid', 'test']}"
   ]
  },
  {
   "cell_type": "code",
   "execution_count": 16,
   "metadata": {},
   "outputs": [],
   "source": [
    "# shows an image from the tensor\n",
    "def imshow(inp, title=None):\n",
    "    inp = inp.numpy().transpose((1, 2, 0))\n",
    "    mean = np.array(norm_mean)\n",
    "    std = np.array(norm_std)\n",
    "    inp = std * inp + mean\n",
    "    inp = np.clip(inp, 0, 1)\n",
    "    plt.imshow(inp)\n",
    "    if title is not None:\n",
    "        plt.title(title)\n",
    "    plt.pause(0.001)  # pause a bit so that plots are updated"
   ]
  },
  {
   "cell_type": "markdown",
   "metadata": {},
   "source": [
    "### Label mapping\n",
    "\n",
    "You'll also need to load in a mapping from category label to category name. You can find this in the file `cat_to_name.json`. It's a JSON object which you can read in with the [`json` module](https://docs.python.org/2/library/json.html). This will give you a dictionary mapping the integer encoded categories to the actual names of the flowers."
   ]
  },
  {
   "cell_type": "code",
   "execution_count": 17,
   "metadata": {},
   "outputs": [],
   "source": [
    "import json\n",
    "\n",
    "with open('cat_to_name.json', 'r') as f:\n",
    "    cat_to_name = json.load(f)"
   ]
  },
  {
   "cell_type": "code",
   "execution_count": 18,
   "metadata": {},
   "outputs": [],
   "source": [
    "#images, labels = next(iter(dataloaders['train']))\n",
    "#imshow(images[0], title=cat_to_name[str(labels.tolist()[0])]);"
   ]
  },
  {
   "cell_type": "markdown",
   "metadata": {},
   "source": [
    "# Building and training the classifier\n",
    "\n",
    "Now that the data is ready, it's time to build and train the classifier. As usual, you should use one of the pretrained models from `torchvision.models` to get the image features. Build and train a new feed-forward classifier using those features.\n",
    "\n",
    "We're going to leave this part up to you. Refer to [the rubric](https://review.udacity.com/#!/rubrics/1663/view) for guidance on successfully completing this section. Things you'll need to do:\n",
    "\n",
    "* Load a [pre-trained network](http://pytorch.org/docs/master/torchvision/models.html) (If you need a starting point, the VGG networks work great and are straightforward to use)\n",
    "* Define a new, untrained feed-forward network as a classifier, using ReLU activations and dropout\n",
    "* Train the classifier layers using backpropagation using the pre-trained network to get the features\n",
    "* Track the loss and accuracy on the validation set to determine the best hyperparameters\n",
    "\n",
    "We've left a cell open for you below, but use as many as you need. Our advice is to break the problem up into smaller parts you can run separately. Check that each part is doing what you expect, then move on to the next. You'll likely find that as you work through each part, you'll need to go back and modify your previous code. This is totally normal!\n",
    "\n",
    "When training make sure you're updating only the weights of the feed-forward network. You should be able to get the validation accuracy above 70% if you build everything right. Make sure to try different hyperparameters (learning rate, units in the classifier, epochs, etc) to find the best model. Save those hyperparameters to use as default values in the next part of the project.\n",
    "\n",
    "One last important tip if you're using the workspace to run your code: To avoid having your workspace disconnect during the long-running tasks in this notebook, please read in the earlier page in this lesson called Intro to\n",
    "GPU Workspaces about Keeping Your Session Active. You'll want to include code from the workspace_utils.py module.\n",
    "\n",
    "**Note for Workspace users:** If your network is over 1 GB when saved as a checkpoint, there might be issues with saving backups in your workspace. Typically this happens with wide dense layers after the convolutional layers. If your saved checkpoint is larger than 1 GB (you can open a terminal and check with `ls -lh`), you should reduce the size of your hidden layers and train again."
   ]
  },
  {
   "cell_type": "markdown",
   "metadata": {},
   "source": [
    "### GPU / CPU Management"
   ]
  },
  {
   "cell_type": "code",
   "execution_count": 47,
   "metadata": {},
   "outputs": [],
   "source": [
    "torch.cuda.empty_cache()"
   ]
  },
  {
   "cell_type": "code",
   "execution_count": 48,
   "metadata": {},
   "outputs": [
    {
     "name": "stdout",
     "output_type": "stream",
     "text": [
      "Using device: cuda\n",
      "\n",
      "Quadro M1000M\n",
      "Memory Usage:\n",
      "Allocated: 0.1 GB\n",
      "Cached:    0.1 GB\n"
     ]
    }
   ],
   "source": [
    "# setting device on GPU if available, else CPU\n",
    "device = torch.device('cuda' if torch.cuda.is_available() else 'cpu')\n",
    "print('Using device:', device)\n",
    "print()\n",
    "\n",
    "#Additional Info when using cuda\n",
    "if device.type == 'cuda':\n",
    "    #torch.cuda.empty_cache()\n",
    "    print(torch.cuda.get_device_name(0))\n",
    "    print('Memory Usage:')\n",
    "    print('Allocated:', round(torch.cuda.memory_allocated(0)/1024**3,1), 'GB')\n",
    "    print('Cached:   ', round(torch.cuda.memory_cached(0)/1024**3,1), 'GB')"
   ]
  },
  {
   "cell_type": "markdown",
   "metadata": {},
   "source": [
    "## Build and Train Network"
   ]
  },
  {
   "cell_type": "markdown",
   "metadata": {},
   "source": [
    "### Build Network"
   ]
  },
  {
   "cell_type": "code",
   "execution_count": 49,
   "metadata": {},
   "outputs": [],
   "source": [
    "# TODO: Build and train your network\n",
    "\n",
    "## load a pre-trained netnwork\n",
    "model = models.densenet121(pretrained=True)\n",
    "#model = models.densenet121(pretrained=True)\n",
    "\n",
    "# freeze feature parameters of pretrain network\n",
    "for param in model.parameters():\n",
    "    param.requires_grad = False\n",
    "\n",
    "# rebuild classifier \n",
    "classifier = nn.Sequential(OrderedDict([\n",
    "    ('fc1', nn.Linear(in_features = 2**10, out_features = 2**9)),\n",
    "    ('relu1', nn.ReLU()),\n",
    "    ('do1', nn.Dropout(p=0.2)),\n",
    "    ('fc2', nn.Linear(in_features = 2**9, out_features = 2**8)),\n",
    "    ('relu3', nn.ReLU()),\n",
    "    ('do2', nn.Dropout(p=0.2)),\n",
    "    ('fc3', nn.Linear(in_features = 2**8, out_features = 102)),\n",
    "    ('output', nn.LogSoftmax(dim=1)),\n",
    "]))\n",
    "\n",
    "model.classifier = classifier\n",
    "\n",
    "criterion = nn.NLLLoss()\n",
    "\n",
    "learning_rate = 0.1\n",
    "#optimizer = optim.Adam(model.classifier.parameters(), lr=learning_rate)\n",
    "optimizer = torch.optim.SGD(model.parameters(), lr=learning_rate, momentum=0.9, nesterov=True)\n",
    "scheduler = StepLR(optimizer, step_size=3, gamma=0.5)\n"
   ]
  },
  {
   "cell_type": "markdown",
   "metadata": {},
   "source": [
    "### Train Network"
   ]
  },
  {
   "cell_type": "code",
   "execution_count": 50,
   "metadata": {},
   "outputs": [
    {
     "data": {
      "text/plain": [
       "device(type='cuda')"
      ]
     },
     "execution_count": 50,
     "metadata": {},
     "output_type": "execute_result"
    }
   ],
   "source": [
    "device"
   ]
  },
  {
   "cell_type": "code",
   "execution_count": 51,
   "metadata": {
    "scrolled": false
   },
   "outputs": [
    {
     "name": "stdout",
     "output_type": "stream",
     "text": [
      "Epoch 1/12.. Images 320/6552.. Train loss: 0.0035.. Test loss: 0.1443.. Test accuracy: 0.0013.. LR: [0.1]\n",
      "Epoch 1/12.. Images 640/6552.. Train loss: 0.0035.. Test loss: 0.1428.. Test accuracy: 0.0005.. LR: [0.1]\n",
      "Epoch 1/12.. Images 960/6552.. Train loss: 0.0034.. Test loss: 0.1396.. Test accuracy: 0.0023.. LR: [0.1]\n",
      "Epoch 1/12.. Images 1280/6552.. Train loss: 0.0034.. Test loss: 0.1351.. Test accuracy: 0.0030.. LR: [0.1]\n",
      "Epoch 1/12.. Images 1600/6552.. Train loss: 0.0033.. Test loss: 0.1324.. Test accuracy: 0.0020.. LR: [0.1]\n",
      "Epoch 1/12.. Images 1920/6552.. Train loss: 0.0031.. Test loss: 0.1216.. Test accuracy: 0.0058.. LR: [0.1]\n",
      "Epoch 1/12.. Images 2240/6552.. Train loss: 0.0029.. Test loss: 0.1144.. Test accuracy: 0.0063.. LR: [0.1]\n",
      "Epoch 1/12.. Images 2560/6552.. Train loss: 0.0029.. Test loss: 0.1045.. Test accuracy: 0.0071.. LR: [0.1]\n",
      "Epoch 1/12.. Images 2880/6552.. Train loss: 0.0025.. Test loss: 0.1211.. Test accuracy: 0.0045.. LR: [0.1]\n",
      "Epoch 1/12.. Images 3200/6552.. Train loss: 0.0031.. Test loss: 0.1167.. Test accuracy: 0.0055.. LR: [0.1]\n",
      "Epoch 1/12.. Images 3520/6552.. Train loss: 0.0029.. Test loss: 0.1065.. Test accuracy: 0.0065.. LR: [0.1]\n",
      "Epoch 1/12.. Images 3840/6552.. Train loss: 0.0025.. Test loss: 0.0961.. Test accuracy: 0.0078.. LR: [0.1]\n",
      "Epoch 1/12.. Images 4160/6552.. Train loss: 0.0028.. Test loss: 0.0972.. Test accuracy: 0.0087.. LR: [0.1]\n",
      "Epoch 1/12.. Images 4480/6552.. Train loss: 0.0024.. Test loss: 0.0962.. Test accuracy: 0.0090.. LR: [0.1]\n",
      "Epoch 1/12.. Images 4800/6552.. Train loss: 0.0023.. Test loss: 0.0848.. Test accuracy: 0.0100.. LR: [0.1]\n",
      "Epoch 1/12.. Images 5120/6552.. Train loss: 0.0023.. Test loss: 0.0783.. Test accuracy: 0.0124.. LR: [0.1]\n",
      "Epoch 1/12.. Images 5440/6552.. Train loss: 0.0021.. Test loss: 0.0867.. Test accuracy: 0.0110.. LR: [0.1]\n",
      "Epoch 1/12.. Images 5760/6552.. Train loss: 0.0020.. Test loss: 0.0728.. Test accuracy: 0.0129.. LR: [0.1]\n",
      "Epoch 1/12.. Images 6080/6552.. Train loss: 0.0019.. Test loss: 0.0698.. Test accuracy: 0.0141.. LR: [0.1]\n",
      "Epoch 1/12.. Images 6400/6552.. Train loss: 0.0020.. Test loss: 0.0676.. Test accuracy: 0.0147.. LR: [0.1]\n",
      "Epoch 2/12.. Images 320/6552.. Train loss: 0.0026.. Test loss: 0.0909.. Test accuracy: 0.0093.. LR: [0.1]\n",
      "Epoch 2/12.. Images 640/6552.. Train loss: 0.0023.. Test loss: 0.0791.. Test accuracy: 0.0120.. LR: [0.1]\n",
      "Epoch 2/12.. Images 960/6552.. Train loss: 0.0021.. Test loss: 0.0792.. Test accuracy: 0.0133.. LR: [0.1]\n",
      "Epoch 2/12.. Images 1280/6552.. Train loss: 0.0021.. Test loss: 0.0712.. Test accuracy: 0.0134.. LR: [0.1]\n",
      "Epoch 2/12.. Images 1600/6552.. Train loss: 0.0019.. Test loss: 0.0720.. Test accuracy: 0.0133.. LR: [0.1]\n",
      "Epoch 2/12.. Images 1920/6552.. Train loss: 0.0020.. Test loss: 0.0650.. Test accuracy: 0.0151.. LR: [0.1]\n",
      "Epoch 2/12.. Images 2240/6552.. Train loss: 0.0018.. Test loss: 0.0732.. Test accuracy: 0.0135.. LR: [0.1]\n",
      "Epoch 2/12.. Images 2560/6552.. Train loss: 0.0020.. Test loss: 0.0682.. Test accuracy: 0.0145.. LR: [0.1]\n",
      "Epoch 2/12.. Images 2880/6552.. Train loss: 0.0020.. Test loss: 0.0655.. Test accuracy: 0.0141.. LR: [0.1]\n",
      "Epoch 2/12.. Images 3200/6552.. Train loss: 0.0018.. Test loss: 0.0605.. Test accuracy: 0.0162.. LR: [0.1]\n",
      "Epoch 2/12.. Images 3520/6552.. Train loss: 0.0019.. Test loss: 0.0582.. Test accuracy: 0.0168.. LR: [0.1]\n",
      "Epoch 2/12.. Images 3840/6552.. Train loss: 0.0018.. Test loss: 0.0568.. Test accuracy: 0.0162.. LR: [0.1]\n",
      "Epoch 2/12.. Images 4160/6552.. Train loss: 0.0016.. Test loss: 0.0632.. Test accuracy: 0.0155.. LR: [0.1]\n",
      "Epoch 2/12.. Images 4480/6552.. Train loss: 0.0021.. Test loss: 0.0608.. Test accuracy: 0.0160.. LR: [0.1]\n",
      "Epoch 2/12.. Images 4800/6552.. Train loss: 0.0019.. Test loss: 0.0606.. Test accuracy: 0.0157.. LR: [0.1]\n",
      "Epoch 2/12.. Images 5120/6552.. Train loss: 0.0019.. Test loss: 0.0586.. Test accuracy: 0.0160.. LR: [0.1]\n",
      "Epoch 2/12.. Images 5440/6552.. Train loss: 0.0018.. Test loss: 0.0619.. Test accuracy: 0.0163.. LR: [0.1]\n",
      "Epoch 2/12.. Images 5760/6552.. Train loss: 0.0019.. Test loss: 0.0674.. Test accuracy: 0.0142.. LR: [0.1]\n",
      "Epoch 2/12.. Images 6080/6552.. Train loss: 0.0019.. Test loss: 0.0600.. Test accuracy: 0.0162.. LR: [0.1]\n",
      "Epoch 2/12.. Images 6400/6552.. Train loss: 0.0020.. Test loss: 0.0585.. Test accuracy: 0.0167.. LR: [0.1]\n",
      "Epoch 3/12.. Images 320/6552.. Train loss: 0.0022.. Test loss: 0.0763.. Test accuracy: 0.0126.. LR: [0.1]\n",
      "Epoch 3/12.. Images 640/6552.. Train loss: 0.0020.. Test loss: 0.0655.. Test accuracy: 0.0151.. LR: [0.1]\n",
      "Epoch 3/12.. Images 960/6552.. Train loss: 0.0019.. Test loss: 0.0645.. Test accuracy: 0.0154.. LR: [0.1]\n",
      "Epoch 3/12.. Images 1280/6552.. Train loss: 0.0020.. Test loss: 0.0663.. Test accuracy: 0.0157.. LR: [0.1]\n",
      "Epoch 3/12.. Images 1600/6552.. Train loss: 0.0021.. Test loss: 0.0828.. Test accuracy: 0.0117.. LR: [0.1]\n",
      "Epoch 3/12.. Images 1920/6552.. Train loss: 0.0020.. Test loss: 0.0644.. Test accuracy: 0.0155.. LR: [0.1]\n",
      "Epoch 3/12.. Images 2240/6552.. Train loss: 0.0019.. Test loss: 0.0623.. Test accuracy: 0.0161.. LR: [0.1]\n",
      "Epoch 3/12.. Images 2560/6552.. Train loss: 0.0018.. Test loss: 0.0617.. Test accuracy: 0.0168.. LR: [0.1]\n",
      "Epoch 3/12.. Images 2880/6552.. Train loss: 0.0020.. Test loss: 0.0620.. Test accuracy: 0.0163.. LR: [0.1]\n",
      "Epoch 3/12.. Images 3200/6552.. Train loss: 0.0019.. Test loss: 0.0606.. Test accuracy: 0.0172.. LR: [0.1]\n",
      "Epoch 3/12.. Images 3520/6552.. Train loss: 0.0020.. Test loss: 0.0633.. Test accuracy: 0.0162.. LR: [0.1]\n",
      "Epoch 3/12.. Images 3840/6552.. Train loss: 0.0020.. Test loss: 0.0624.. Test accuracy: 0.0170.. LR: [0.1]\n",
      "Epoch 3/12.. Images 4160/6552.. Train loss: 0.0019.. Test loss: 0.0617.. Test accuracy: 0.0165.. LR: [0.1]\n",
      "Epoch 3/12.. Images 4480/6552.. Train loss: 0.0021.. Test loss: 0.0659.. Test accuracy: 0.0150.. LR: [0.1]\n",
      "Epoch 3/12.. Images 4800/6552.. Train loss: 0.0020.. Test loss: 0.0670.. Test accuracy: 0.0146.. LR: [0.1]\n",
      "Epoch 3/12.. Images 5120/6552.. Train loss: 0.0019.. Test loss: 0.0641.. Test accuracy: 0.0154.. LR: [0.1]\n",
      "Epoch 3/12.. Images 5440/6552.. Train loss: 0.0019.. Test loss: 0.0608.. Test accuracy: 0.0162.. LR: [0.1]\n",
      "Epoch 3/12.. Images 5760/6552.. Train loss: 0.0018.. Test loss: 0.0628.. Test accuracy: 0.0160.. LR: [0.1]\n",
      "Epoch 3/12.. Images 6080/6552.. Train loss: 0.0021.. Test loss: 0.0604.. Test accuracy: 0.0162.. LR: [0.1]\n",
      "Epoch 3/12.. Images 6400/6552.. Train loss: 0.0018.. Test loss: 0.0570.. Test accuracy: 0.0178.. LR: [0.1]\n",
      "Epoch 4/12.. Images 320/6552.. Train loss: 0.0019.. Test loss: 0.0525.. Test accuracy: 0.0183.. LR: [0.025]\n",
      "Epoch 4/12.. Images 640/6552.. Train loss: 0.0018.. Test loss: 0.0563.. Test accuracy: 0.0170.. LR: [0.025]\n",
      "Epoch 4/12.. Images 960/6552.. Train loss: 0.0017.. Test loss: 0.0528.. Test accuracy: 0.0184.. LR: [0.025]\n",
      "Epoch 4/12.. Images 1280/6552.. Train loss: 0.0015.. Test loss: 0.0501.. Test accuracy: 0.0192.. LR: [0.025]\n",
      "Epoch 4/12.. Images 1600/6552.. Train loss: 0.0015.. Test loss: 0.0520.. Test accuracy: 0.0188.. LR: [0.025]\n",
      "Epoch 4/12.. Images 1920/6552.. Train loss: 0.0016.. Test loss: 0.0495.. Test accuracy: 0.0196.. LR: [0.025]\n",
      "Epoch 4/12.. Images 2240/6552.. Train loss: 0.0015.. Test loss: 0.0477.. Test accuracy: 0.0194.. LR: [0.025]\n",
      "Epoch 4/12.. Images 2560/6552.. Train loss: 0.0016.. Test loss: 0.0451.. Test accuracy: 0.0205.. LR: [0.025]\n",
      "Epoch 4/12.. Images 2880/6552.. Train loss: 0.0016.. Test loss: 0.0440.. Test accuracy: 0.0203.. LR: [0.025]\n",
      "Epoch 4/12.. Images 3200/6552.. Train loss: 0.0014.. Test loss: 0.0437.. Test accuracy: 0.0201.. LR: [0.025]\n",
      "Epoch 4/12.. Images 3520/6552.. Train loss: 0.0015.. Test loss: 0.0455.. Test accuracy: 0.0202.. LR: [0.025]\n",
      "Epoch 4/12.. Images 3840/6552.. Train loss: 0.0013.. Test loss: 0.0462.. Test accuracy: 0.0199.. LR: [0.025]\n",
      "Epoch 4/12.. Images 4160/6552.. Train loss: 0.0016.. Test loss: 0.0477.. Test accuracy: 0.0203.. LR: [0.025]\n",
      "Epoch 4/12.. Images 4480/6552.. Train loss: 0.0015.. Test loss: 0.0444.. Test accuracy: 0.0202.. LR: [0.025]\n",
      "Epoch 4/12.. Images 4800/6552.. Train loss: 0.0016.. Test loss: 0.0441.. Test accuracy: 0.0202.. LR: [0.025]\n",
      "Epoch 4/12.. Images 5120/6552.. Train loss: 0.0013.. Test loss: 0.0416.. Test accuracy: 0.0209.. LR: [0.025]\n"
     ]
    },
    {
     "name": "stdout",
     "output_type": "stream",
     "text": [
      "Epoch 4/12.. Images 5440/6552.. Train loss: 0.0014.. Test loss: 0.0400.. Test accuracy: 0.0210.. LR: [0.025]\n",
      "Epoch 4/12.. Images 5760/6552.. Train loss: 0.0012.. Test loss: 0.0419.. Test accuracy: 0.0212.. LR: [0.025]\n",
      "Epoch 4/12.. Images 6080/6552.. Train loss: 0.0014.. Test loss: 0.0408.. Test accuracy: 0.0214.. LR: [0.025]\n",
      "Epoch 4/12.. Images 6400/6552.. Train loss: 0.0013.. Test loss: 0.0412.. Test accuracy: 0.0212.. LR: [0.025]\n",
      "Epoch 5/12.. Images 320/6552.. Train loss: 0.0015.. Test loss: 0.0417.. Test accuracy: 0.0206.. LR: [0.05]\n",
      "Epoch 5/12.. Images 640/6552.. Train loss: 0.0014.. Test loss: 0.0419.. Test accuracy: 0.0207.. LR: [0.05]\n",
      "Epoch 5/12.. Images 960/6552.. Train loss: 0.0013.. Test loss: 0.0404.. Test accuracy: 0.0211.. LR: [0.05]\n",
      "Epoch 5/12.. Images 1280/6552.. Train loss: 0.0012.. Test loss: 0.0422.. Test accuracy: 0.0209.. LR: [0.05]\n",
      "Epoch 5/12.. Images 1600/6552.. Train loss: 0.0011.. Test loss: 0.0419.. Test accuracy: 0.0206.. LR: [0.05]\n",
      "Epoch 5/12.. Images 1920/6552.. Train loss: 0.0015.. Test loss: 0.0393.. Test accuracy: 0.0219.. LR: [0.05]\n",
      "Epoch 5/12.. Images 2240/6552.. Train loss: 0.0012.. Test loss: 0.0380.. Test accuracy: 0.0215.. LR: [0.05]\n",
      "Epoch 5/12.. Images 2560/6552.. Train loss: 0.0012.. Test loss: 0.0401.. Test accuracy: 0.0215.. LR: [0.05]\n",
      "Epoch 5/12.. Images 2880/6552.. Train loss: 0.0014.. Test loss: 0.0415.. Test accuracy: 0.0211.. LR: [0.05]\n",
      "Epoch 5/12.. Images 3200/6552.. Train loss: 0.0014.. Test loss: 0.0422.. Test accuracy: 0.0214.. LR: [0.05]\n",
      "Epoch 5/12.. Images 3520/6552.. Train loss: 0.0012.. Test loss: 0.0417.. Test accuracy: 0.0206.. LR: [0.05]\n",
      "Epoch 5/12.. Images 3840/6552.. Train loss: 0.0013.. Test loss: 0.0413.. Test accuracy: 0.0211.. LR: [0.05]\n",
      "Epoch 5/12.. Images 4160/6552.. Train loss: 0.0012.. Test loss: 0.0416.. Test accuracy: 0.0213.. LR: [0.05]\n",
      "Epoch 5/12.. Images 4480/6552.. Train loss: 0.0014.. Test loss: 0.0417.. Test accuracy: 0.0207.. LR: [0.05]\n",
      "Epoch 5/12.. Images 4800/6552.. Train loss: 0.0014.. Test loss: 0.0363.. Test accuracy: 0.0224.. LR: [0.05]\n",
      "Epoch 5/12.. Images 5120/6552.. Train loss: 0.0014.. Test loss: 0.0383.. Test accuracy: 0.0219.. LR: [0.05]\n",
      "Epoch 5/12.. Images 5440/6552.. Train loss: 0.0013.. Test loss: 0.0385.. Test accuracy: 0.0224.. LR: [0.05]\n",
      "Epoch 5/12.. Images 5760/6552.. Train loss: 0.0012.. Test loss: 0.0392.. Test accuracy: 0.0221.. LR: [0.05]\n",
      "Epoch 5/12.. Images 6080/6552.. Train loss: 0.0012.. Test loss: 0.0383.. Test accuracy: 0.0219.. LR: [0.05]\n",
      "Epoch 5/12.. Images 6400/6552.. Train loss: 0.0012.. Test loss: 0.0375.. Test accuracy: 0.0221.. LR: [0.05]\n",
      "Epoch 6/12.. Images 320/6552.. Train loss: 0.0013.. Test loss: 0.0425.. Test accuracy: 0.0210.. LR: [0.05]\n",
      "Epoch 6/12.. Images 640/6552.. Train loss: 0.0013.. Test loss: 0.0419.. Test accuracy: 0.0210.. LR: [0.05]\n",
      "Epoch 6/12.. Images 960/6552.. Train loss: 0.0013.. Test loss: 0.0407.. Test accuracy: 0.0214.. LR: [0.05]\n",
      "Epoch 6/12.. Images 1280/6552.. Train loss: 0.0013.. Test loss: 0.0415.. Test accuracy: 0.0212.. LR: [0.05]\n",
      "Epoch 6/12.. Images 1600/6552.. Train loss: 0.0012.. Test loss: 0.0399.. Test accuracy: 0.0218.. LR: [0.05]\n",
      "Epoch 6/12.. Images 1920/6552.. Train loss: 0.0014.. Test loss: 0.0362.. Test accuracy: 0.0226.. LR: [0.05]\n",
      "Epoch 6/12.. Images 2240/6552.. Train loss: 0.0012.. Test loss: 0.0354.. Test accuracy: 0.0228.. LR: [0.05]\n",
      "Epoch 6/12.. Images 2560/6552.. Train loss: 0.0011.. Test loss: 0.0376.. Test accuracy: 0.0223.. LR: [0.05]\n",
      "Epoch 6/12.. Images 2880/6552.. Train loss: 0.0014.. Test loss: 0.0363.. Test accuracy: 0.0227.. LR: [0.05]\n",
      "Epoch 6/12.. Images 3200/6552.. Train loss: 0.0012.. Test loss: 0.0363.. Test accuracy: 0.0225.. LR: [0.05]\n",
      "Epoch 6/12.. Images 3520/6552.. Train loss: 0.0013.. Test loss: 0.0363.. Test accuracy: 0.0225.. LR: [0.05]\n",
      "Epoch 6/12.. Images 3840/6552.. Train loss: 0.0012.. Test loss: 0.0353.. Test accuracy: 0.0221.. LR: [0.05]\n",
      "Epoch 6/12.. Images 4160/6552.. Train loss: 0.0012.. Test loss: 0.0363.. Test accuracy: 0.0224.. LR: [0.05]\n",
      "Epoch 6/12.. Images 4480/6552.. Train loss: 0.0011.. Test loss: 0.0373.. Test accuracy: 0.0222.. LR: [0.05]\n",
      "Epoch 6/12.. Images 4800/6552.. Train loss: 0.0013.. Test loss: 0.0386.. Test accuracy: 0.0217.. LR: [0.05]\n",
      "Epoch 6/12.. Images 5120/6552.. Train loss: 0.0013.. Test loss: 0.0337.. Test accuracy: 0.0234.. LR: [0.05]\n",
      "Epoch 6/12.. Images 5440/6552.. Train loss: 0.0012.. Test loss: 0.0348.. Test accuracy: 0.0230.. LR: [0.05]\n",
      "Epoch 6/12.. Images 5760/6552.. Train loss: 0.0012.. Test loss: 0.0351.. Test accuracy: 0.0229.. LR: [0.05]\n",
      "Epoch 6/12.. Images 6080/6552.. Train loss: 0.0013.. Test loss: 0.0364.. Test accuracy: 0.0221.. LR: [0.05]\n",
      "Epoch 6/12.. Images 6400/6552.. Train loss: 0.0012.. Test loss: 0.0357.. Test accuracy: 0.0229.. LR: [0.05]\n",
      "Epoch 7/12.. Images 320/6552.. Train loss: 0.0013.. Test loss: 0.0344.. Test accuracy: 0.0232.. LR: [0.0125]\n",
      "Epoch 7/12.. Images 640/6552.. Train loss: 0.0012.. Test loss: 0.0331.. Test accuracy: 0.0235.. LR: [0.0125]\n",
      "Epoch 7/12.. Images 960/6552.. Train loss: 0.0009.. Test loss: 0.0333.. Test accuracy: 0.0231.. LR: [0.0125]\n",
      "Epoch 7/12.. Images 1280/6552.. Train loss: 0.0011.. Test loss: 0.0339.. Test accuracy: 0.0230.. LR: [0.0125]\n",
      "Epoch 7/12.. Images 1600/6552.. Train loss: 0.0010.. Test loss: 0.0343.. Test accuracy: 0.0232.. LR: [0.0125]\n",
      "Epoch 7/12.. Images 1920/6552.. Train loss: 0.0011.. Test loss: 0.0323.. Test accuracy: 0.0239.. LR: [0.0125]\n",
      "Epoch 7/12.. Images 2240/6552.. Train loss: 0.0009.. Test loss: 0.0301.. Test accuracy: 0.0237.. LR: [0.0125]\n",
      "Epoch 7/12.. Images 2560/6552.. Train loss: 0.0009.. Test loss: 0.0306.. Test accuracy: 0.0240.. LR: [0.0125]\n",
      "Epoch 7/12.. Images 2880/6552.. Train loss: 0.0010.. Test loss: 0.0293.. Test accuracy: 0.0244.. LR: [0.0125]\n",
      "Epoch 7/12.. Images 3200/6552.. Train loss: 0.0010.. Test loss: 0.0295.. Test accuracy: 0.0243.. LR: [0.0125]\n",
      "Epoch 7/12.. Images 3520/6552.. Train loss: 0.0009.. Test loss: 0.0293.. Test accuracy: 0.0240.. LR: [0.0125]\n",
      "Epoch 7/12.. Images 3840/6552.. Train loss: 0.0010.. Test loss: 0.0293.. Test accuracy: 0.0239.. LR: [0.0125]\n",
      "Epoch 7/12.. Images 4160/6552.. Train loss: 0.0010.. Test loss: 0.0302.. Test accuracy: 0.0241.. LR: [0.0125]\n",
      "Epoch 7/12.. Images 4480/6552.. Train loss: 0.0010.. Test loss: 0.0290.. Test accuracy: 0.0241.. LR: [0.0125]\n",
      "Epoch 7/12.. Images 4800/6552.. Train loss: 0.0009.. Test loss: 0.0306.. Test accuracy: 0.0239.. LR: [0.0125]\n",
      "Epoch 7/12.. Images 5120/6552.. Train loss: 0.0009.. Test loss: 0.0288.. Test accuracy: 0.0245.. LR: [0.0125]\n",
      "Epoch 7/12.. Images 5440/6552.. Train loss: 0.0010.. Test loss: 0.0295.. Test accuracy: 0.0243.. LR: [0.0125]\n",
      "Epoch 7/12.. Images 5760/6552.. Train loss: 0.0010.. Test loss: 0.0290.. Test accuracy: 0.0238.. LR: [0.0125]\n",
      "Epoch 7/12.. Images 6080/6552.. Train loss: 0.0010.. Test loss: 0.0297.. Test accuracy: 0.0243.. LR: [0.0125]\n",
      "Epoch 7/12.. Images 6400/6552.. Train loss: 0.0010.. Test loss: 0.0309.. Test accuracy: 0.0241.. LR: [0.0125]\n",
      "Epoch 8/12.. Images 320/6552.. Train loss: 0.0009.. Test loss: 0.0300.. Test accuracy: 0.0242.. LR: [0.025]\n",
      "Epoch 8/12.. Images 640/6552.. Train loss: 0.0011.. Test loss: 0.0307.. Test accuracy: 0.0244.. LR: [0.025]\n",
      "Epoch 8/12.. Images 960/6552.. Train loss: 0.0010.. Test loss: 0.0315.. Test accuracy: 0.0239.. LR: [0.025]\n",
      "Epoch 8/12.. Images 1280/6552.. Train loss: 0.0010.. Test loss: 0.0295.. Test accuracy: 0.0238.. LR: [0.025]\n",
      "Epoch 8/12.. Images 1600/6552.. Train loss: 0.0010.. Test loss: 0.0284.. Test accuracy: 0.0248.. LR: [0.025]\n",
      "Epoch 8/12.. Images 1920/6552.. Train loss: 0.0010.. Test loss: 0.0298.. Test accuracy: 0.0240.. LR: [0.025]\n",
      "Epoch 8/12.. Images 2240/6552.. Train loss: 0.0009.. Test loss: 0.0299.. Test accuracy: 0.0239.. LR: [0.025]\n",
      "Epoch 8/12.. Images 2560/6552.. Train loss: 0.0010.. Test loss: 0.0305.. Test accuracy: 0.0237.. LR: [0.025]\n",
      "Epoch 8/12.. Images 2880/6552.. Train loss: 0.0009.. Test loss: 0.0286.. Test accuracy: 0.0242.. LR: [0.025]\n",
      "Epoch 8/12.. Images 3200/6552.. Train loss: 0.0010.. Test loss: 0.0278.. Test accuracy: 0.0243.. LR: [0.025]\n",
      "Epoch 8/12.. Images 3520/6552.. Train loss: 0.0009.. Test loss: 0.0289.. Test accuracy: 0.0242.. LR: [0.025]\n"
     ]
    },
    {
     "name": "stdout",
     "output_type": "stream",
     "text": [
      "Epoch 8/12.. Images 3840/6552.. Train loss: 0.0009.. Test loss: 0.0306.. Test accuracy: 0.0240.. LR: [0.025]\n",
      "Epoch 8/12.. Images 4160/6552.. Train loss: 0.0009.. Test loss: 0.0273.. Test accuracy: 0.0252.. LR: [0.025]\n",
      "Epoch 8/12.. Images 4480/6552.. Train loss: 0.0008.. Test loss: 0.0272.. Test accuracy: 0.0247.. LR: [0.025]\n",
      "Epoch 8/12.. Images 4800/6552.. Train loss: 0.0011.. Test loss: 0.0263.. Test accuracy: 0.0249.. LR: [0.025]\n",
      "Epoch 8/12.. Images 5120/6552.. Train loss: 0.0009.. Test loss: 0.0290.. Test accuracy: 0.0245.. LR: [0.025]\n",
      "Epoch 8/12.. Images 5440/6552.. Train loss: 0.0008.. Test loss: 0.0257.. Test accuracy: 0.0252.. LR: [0.025]\n",
      "Epoch 8/12.. Images 5760/6552.. Train loss: 0.0009.. Test loss: 0.0291.. Test accuracy: 0.0241.. LR: [0.025]\n",
      "Epoch 8/12.. Images 6080/6552.. Train loss: 0.0009.. Test loss: 0.0266.. Test accuracy: 0.0248.. LR: [0.025]\n",
      "Epoch 8/12.. Images 6400/6552.. Train loss: 0.0009.. Test loss: 0.0288.. Test accuracy: 0.0247.. LR: [0.025]\n",
      "Epoch 9/12.. Images 320/6552.. Train loss: 0.0009.. Test loss: 0.0271.. Test accuracy: 0.0245.. LR: [0.025]\n",
      "Epoch 9/12.. Images 640/6552.. Train loss: 0.0010.. Test loss: 0.0296.. Test accuracy: 0.0243.. LR: [0.025]\n",
      "Epoch 9/12.. Images 960/6552.. Train loss: 0.0009.. Test loss: 0.0287.. Test accuracy: 0.0239.. LR: [0.025]\n",
      "Epoch 9/12.. Images 1280/6552.. Train loss: 0.0009.. Test loss: 0.0275.. Test accuracy: 0.0244.. LR: [0.025]\n",
      "Epoch 9/12.. Images 1600/6552.. Train loss: 0.0010.. Test loss: 0.0286.. Test accuracy: 0.0246.. LR: [0.025]\n",
      "Epoch 9/12.. Images 1920/6552.. Train loss: 0.0009.. Test loss: 0.0282.. Test accuracy: 0.0247.. LR: [0.025]\n",
      "Epoch 9/12.. Images 2240/6552.. Train loss: 0.0007.. Test loss: 0.0285.. Test accuracy: 0.0248.. LR: [0.025]\n",
      "Epoch 9/12.. Images 2560/6552.. Train loss: 0.0008.. Test loss: 0.0276.. Test accuracy: 0.0248.. LR: [0.025]\n",
      "Epoch 9/12.. Images 2880/6552.. Train loss: 0.0008.. Test loss: 0.0289.. Test accuracy: 0.0245.. LR: [0.025]\n",
      "Epoch 9/12.. Images 3200/6552.. Train loss: 0.0010.. Test loss: 0.0244.. Test accuracy: 0.0249.. LR: [0.025]\n",
      "Epoch 9/12.. Images 3520/6552.. Train loss: 0.0009.. Test loss: 0.0255.. Test accuracy: 0.0247.. LR: [0.025]\n",
      "Epoch 9/12.. Images 3840/6552.. Train loss: 0.0010.. Test loss: 0.0288.. Test accuracy: 0.0244.. LR: [0.025]\n",
      "Epoch 9/12.. Images 4160/6552.. Train loss: 0.0009.. Test loss: 0.0299.. Test accuracy: 0.0246.. LR: [0.025]\n",
      "Epoch 9/12.. Images 4480/6552.. Train loss: 0.0011.. Test loss: 0.0265.. Test accuracy: 0.0248.. LR: [0.025]\n",
      "Epoch 9/12.. Images 4800/6552.. Train loss: 0.0009.. Test loss: 0.0258.. Test accuracy: 0.0257.. LR: [0.025]\n",
      "Epoch 9/12.. Images 5120/6552.. Train loss: 0.0008.. Test loss: 0.0264.. Test accuracy: 0.0245.. LR: [0.025]\n",
      "Epoch 9/12.. Images 5440/6552.. Train loss: 0.0009.. Test loss: 0.0276.. Test accuracy: 0.0250.. LR: [0.025]\n",
      "Epoch 9/12.. Images 5760/6552.. Train loss: 0.0009.. Test loss: 0.0276.. Test accuracy: 0.0246.. LR: [0.025]\n",
      "Epoch 9/12.. Images 6080/6552.. Train loss: 0.0008.. Test loss: 0.0255.. Test accuracy: 0.0248.. LR: [0.025]\n",
      "Epoch 9/12.. Images 6400/6552.. Train loss: 0.0009.. Test loss: 0.0253.. Test accuracy: 0.0250.. LR: [0.025]\n",
      "Epoch 10/12.. Images 320/6552.. Train loss: 0.0009.. Test loss: 0.0257.. Test accuracy: 0.0254.. LR: [0.00625]\n",
      "Epoch 10/12.. Images 640/6552.. Train loss: 0.0009.. Test loss: 0.0253.. Test accuracy: 0.0258.. LR: [0.00625]\n",
      "Epoch 10/12.. Images 960/6552.. Train loss: 0.0007.. Test loss: 0.0241.. Test accuracy: 0.0257.. LR: [0.00625]\n",
      "Epoch 10/12.. Images 1280/6552.. Train loss: 0.0008.. Test loss: 0.0256.. Test accuracy: 0.0253.. LR: [0.00625]\n",
      "Epoch 10/12.. Images 1600/6552.. Train loss: 0.0008.. Test loss: 0.0235.. Test accuracy: 0.0253.. LR: [0.00625]\n",
      "Epoch 10/12.. Images 1920/6552.. Train loss: 0.0009.. Test loss: 0.0255.. Test accuracy: 0.0250.. LR: [0.00625]\n",
      "Epoch 10/12.. Images 2240/6552.. Train loss: 0.0007.. Test loss: 0.0263.. Test accuracy: 0.0251.. LR: [0.00625]\n",
      "Epoch 10/12.. Images 2560/6552.. Train loss: 0.0008.. Test loss: 0.0250.. Test accuracy: 0.0256.. LR: [0.00625]\n",
      "Epoch 10/12.. Images 2880/6552.. Train loss: 0.0008.. Test loss: 0.0242.. Test accuracy: 0.0256.. LR: [0.00625]\n",
      "Epoch 10/12.. Images 3200/6552.. Train loss: 0.0007.. Test loss: 0.0259.. Test accuracy: 0.0249.. LR: [0.00625]\n",
      "Epoch 10/12.. Images 3520/6552.. Train loss: 0.0008.. Test loss: 0.0248.. Test accuracy: 0.0257.. LR: [0.00625]\n",
      "Epoch 10/12.. Images 3840/6552.. Train loss: 0.0008.. Test loss: 0.0243.. Test accuracy: 0.0257.. LR: [0.00625]\n",
      "Epoch 10/12.. Images 4160/6552.. Train loss: 0.0009.. Test loss: 0.0235.. Test accuracy: 0.0259.. LR: [0.00625]\n",
      "Epoch 10/12.. Images 4480/6552.. Train loss: 0.0008.. Test loss: 0.0234.. Test accuracy: 0.0256.. LR: [0.00625]\n",
      "Epoch 10/12.. Images 4800/6552.. Train loss: 0.0009.. Test loss: 0.0235.. Test accuracy: 0.0258.. LR: [0.00625]\n",
      "Epoch 10/12.. Images 5120/6552.. Train loss: 0.0009.. Test loss: 0.0237.. Test accuracy: 0.0256.. LR: [0.00625]\n",
      "Epoch 10/12.. Images 5440/6552.. Train loss: 0.0009.. Test loss: 0.0250.. Test accuracy: 0.0257.. LR: [0.00625]\n",
      "Epoch 10/12.. Images 5760/6552.. Train loss: 0.0009.. Test loss: 0.0256.. Test accuracy: 0.0255.. LR: [0.00625]\n",
      "Epoch 10/12.. Images 6080/6552.. Train loss: 0.0009.. Test loss: 0.0256.. Test accuracy: 0.0256.. LR: [0.00625]\n",
      "Epoch 10/12.. Images 6400/6552.. Train loss: 0.0008.. Test loss: 0.0243.. Test accuracy: 0.0251.. LR: [0.00625]\n",
      "Epoch 11/12.. Images 320/6552.. Train loss: 0.0008.. Test loss: 0.0252.. Test accuracy: 0.0254.. LR: [0.0125]\n",
      "Epoch 11/12.. Images 640/6552.. Train loss: 0.0007.. Test loss: 0.0240.. Test accuracy: 0.0259.. LR: [0.0125]\n",
      "Epoch 11/12.. Images 960/6552.. Train loss: 0.0007.. Test loss: 0.0266.. Test accuracy: 0.0249.. LR: [0.0125]\n",
      "Epoch 11/12.. Images 1280/6552.. Train loss: 0.0008.. Test loss: 0.0241.. Test accuracy: 0.0256.. LR: [0.0125]\n",
      "Epoch 11/12.. Images 1600/6552.. Train loss: 0.0007.. Test loss: 0.0258.. Test accuracy: 0.0254.. LR: [0.0125]\n",
      "Epoch 11/12.. Images 1920/6552.. Train loss: 0.0007.. Test loss: 0.0221.. Test accuracy: 0.0260.. LR: [0.0125]\n",
      "Epoch 11/12.. Images 2240/6552.. Train loss: 0.0008.. Test loss: 0.0223.. Test accuracy: 0.0259.. LR: [0.0125]\n",
      "Epoch 11/12.. Images 2560/6552.. Train loss: 0.0008.. Test loss: 0.0241.. Test accuracy: 0.0251.. LR: [0.0125]\n",
      "Epoch 11/12.. Images 2880/6552.. Train loss: 0.0007.. Test loss: 0.0253.. Test accuracy: 0.0253.. LR: [0.0125]\n",
      "Epoch 11/12.. Images 3200/6552.. Train loss: 0.0009.. Test loss: 0.0245.. Test accuracy: 0.0251.. LR: [0.0125]\n",
      "Epoch 11/12.. Images 3520/6552.. Train loss: 0.0008.. Test loss: 0.0229.. Test accuracy: 0.0258.. LR: [0.0125]\n",
      "Epoch 11/12.. Images 3840/6552.. Train loss: 0.0009.. Test loss: 0.0245.. Test accuracy: 0.0252.. LR: [0.0125]\n",
      "Epoch 11/12.. Images 4160/6552.. Train loss: 0.0009.. Test loss: 0.0241.. Test accuracy: 0.0256.. LR: [0.0125]\n",
      "Epoch 11/12.. Images 4480/6552.. Train loss: 0.0007.. Test loss: 0.0252.. Test accuracy: 0.0256.. LR: [0.0125]\n",
      "Epoch 11/12.. Images 4800/6552.. Train loss: 0.0009.. Test loss: 0.0233.. Test accuracy: 0.0256.. LR: [0.0125]\n",
      "Epoch 11/12.. Images 5120/6552.. Train loss: 0.0008.. Test loss: 0.0249.. Test accuracy: 0.0253.. LR: [0.0125]\n",
      "Epoch 11/12.. Images 5440/6552.. Train loss: 0.0008.. Test loss: 0.0226.. Test accuracy: 0.0261.. LR: [0.0125]\n",
      "Epoch 11/12.. Images 5760/6552.. Train loss: 0.0007.. Test loss: 0.0221.. Test accuracy: 0.0262.. LR: [0.0125]\n",
      "Epoch 11/12.. Images 6080/6552.. Train loss: 0.0008.. Test loss: 0.0253.. Test accuracy: 0.0253.. LR: [0.0125]\n",
      "Epoch 11/12.. Images 6400/6552.. Train loss: 0.0007.. Test loss: 0.0231.. Test accuracy: 0.0255.. LR: [0.0125]\n",
      "Epoch 12/12.. Images 320/6552.. Train loss: 0.0007.. Test loss: 0.0223.. Test accuracy: 0.0260.. LR: [0.0125]\n",
      "Epoch 12/12.. Images 640/6552.. Train loss: 0.0007.. Test loss: 0.0235.. Test accuracy: 0.0254.. LR: [0.0125]\n",
      "Epoch 12/12.. Images 960/6552.. Train loss: 0.0008.. Test loss: 0.0235.. Test accuracy: 0.0253.. LR: [0.0125]\n",
      "Epoch 12/12.. Images 1280/6552.. Train loss: 0.0008.. Test loss: 0.0207.. Test accuracy: 0.0262.. LR: [0.0125]\n",
      "Epoch 12/12.. Images 1600/6552.. Train loss: 0.0007.. Test loss: 0.0218.. Test accuracy: 0.0261.. LR: [0.0125]\n"
     ]
    },
    {
     "name": "stdout",
     "output_type": "stream",
     "text": [
      "Epoch 12/12.. Images 1920/6552.. Train loss: 0.0008.. Test loss: 0.0245.. Test accuracy: 0.0255.. LR: [0.0125]\n",
      "Epoch 12/12.. Images 2240/6552.. Train loss: 0.0008.. Test loss: 0.0239.. Test accuracy: 0.0254.. LR: [0.0125]\n",
      "Epoch 12/12.. Images 2560/6552.. Train loss: 0.0008.. Test loss: 0.0247.. Test accuracy: 0.0249.. LR: [0.0125]\n",
      "Epoch 12/12.. Images 2880/6552.. Train loss: 0.0008.. Test loss: 0.0235.. Test accuracy: 0.0257.. LR: [0.0125]\n",
      "Epoch 12/12.. Images 3200/6552.. Train loss: 0.0008.. Test loss: 0.0232.. Test accuracy: 0.0260.. LR: [0.0125]\n",
      "Epoch 12/12.. Images 3520/6552.. Train loss: 0.0007.. Test loss: 0.0242.. Test accuracy: 0.0253.. LR: [0.0125]\n",
      "Epoch 12/12.. Images 3840/6552.. Train loss: 0.0008.. Test loss: 0.0223.. Test accuracy: 0.0265.. LR: [0.0125]\n",
      "Epoch 12/12.. Images 4160/6552.. Train loss: 0.0007.. Test loss: 0.0243.. Test accuracy: 0.0253.. LR: [0.0125]\n",
      "Epoch 12/12.. Images 4480/6552.. Train loss: 0.0007.. Test loss: 0.0241.. Test accuracy: 0.0257.. LR: [0.0125]\n",
      "Epoch 12/12.. Images 4800/6552.. Train loss: 0.0008.. Test loss: 0.0228.. Test accuracy: 0.0258.. LR: [0.0125]\n",
      "Epoch 12/12.. Images 5120/6552.. Train loss: 0.0008.. Test loss: 0.0248.. Test accuracy: 0.0253.. LR: [0.0125]\n",
      "Epoch 12/12.. Images 5440/6552.. Train loss: 0.0008.. Test loss: 0.0236.. Test accuracy: 0.0256.. LR: [0.0125]\n",
      "Epoch 12/12.. Images 5760/6552.. Train loss: 0.0007.. Test loss: 0.0219.. Test accuracy: 0.0263.. LR: [0.0125]\n",
      "Epoch 12/12.. Images 6080/6552.. Train loss: 0.0008.. Test loss: 0.0229.. Test accuracy: 0.0260.. LR: [0.0125]\n",
      "Epoch 12/12.. Images 6400/6552.. Train loss: 0.0008.. Test loss: 0.0221.. Test accuracy: 0.0259.. LR: [0.0125]\n"
     ]
    }
   ],
   "source": [
    "epochs = 12\n",
    "eval_every = 5\n",
    "\n",
    "\n",
    "# move model to device GPU/CPU\n",
    "model.to(device)\n",
    "\n",
    "for epoch in range(epochs):\n",
    "    running_loss = 0\n",
    "    steps = 0\n",
    "    \n",
    "    learn_rt = scheduler.get_lr()\n",
    "  \n",
    "    # enumerate training dataset\n",
    "    for inputs, labels in dataloaders['train']:\n",
    "        steps += 1\n",
    "        # move data tensors to device\n",
    "        inputs_train, labels_train = inputs.to(device), labels.to(device)\n",
    "        optimizer.zero_grad()  # zero out the gradients\n",
    "        \n",
    "        logps = model.forward(inputs_train) # make forward pass on input\n",
    "        loss = criterion(logps, labels_train) # calculate loss\n",
    "        loss.backward()  # back propogate the loss\n",
    "        optimizer.step() # update the weights\n",
    "        \n",
    "        \n",
    "        # update the running loss\n",
    "        running_loss += loss.item()\n",
    "        \n",
    "        # evalute every x steps\n",
    "        if steps % eval_every == 0:\n",
    "            loss_valid, accuracy = 0, 0\n",
    "            model.eval()\n",
    "            model.to(device)\n",
    "            with torch.no_grad():\n",
    "                # enumerate validation dataset\n",
    "                for inputs_valid, labels_valid in dataloaders['valid']:\n",
    "                    inputs_valid, labels_valid = inputs_valid.to(device), labels_valid.to(device)\n",
    "                    \n",
    "                    output_valid = model.forward(inputs_valid)\n",
    "                    batch_loss = criterion(output_valid, labels_valid)\n",
    "                    \n",
    "                    loss_valid += batch_loss.item()\n",
    "                    \n",
    "                    # Calculate accuracy\n",
    "                    ps = torch.exp(output_valid)\n",
    "                    top_p, top_class = ps.topk(1, dim=1)\n",
    "                    equals = top_class == labels_valid.view(*top_class.shape)\n",
    "                    accuracy += torch.mean(equals.type(torch.FloatTensor)).item()\n",
    "                    \n",
    "                    \n",
    "            print(f\"Epoch {epoch+1}/{epochs}.. \"\n",
    "                  f\"Images {steps * batch_sizes['train'] }/{dataset_sizes['train']}.. \"\n",
    "                  f\"Train loss: {running_loss/dataset_sizes['train']:.4f}.. \"\n",
    "                  f\"Test loss: {loss_valid/dataset_sizes['valid']:.4f}.. \"\n",
    "                  f\"Test accuracy: {accuracy/dataset_sizes['valid']:.4f}.. \"\n",
    "                  f\"LR: {learn_rt}\")\n",
    "            \n",
    "            running_loss = 0\n",
    "            model.train()\n",
    "    scheduler.step()"
   ]
  },
  {
   "cell_type": "code",
   "execution_count": 52,
   "metadata": {},
   "outputs": [],
   "source": [
    "torch.cuda.empty_cache()"
   ]
  },
  {
   "cell_type": "markdown",
   "metadata": {},
   "source": [
    "## Testing your network\n",
    "\n",
    "It's good practice to test your trained network on test data, images the network has never seen either in training or validation. This will give you a good estimate for the model's performance on completely new images. Run the test images through the network and measure the accuracy, the same way you did validation. You should be able to reach around 70% accuracy on the test set if the model has been trained well."
   ]
  },
  {
   "cell_type": "code",
   "execution_count": null,
   "metadata": {},
   "outputs": [],
   "source": []
  },
  {
   "cell_type": "markdown",
   "metadata": {},
   "source": [
    "## Save the checkpoint\n",
    "\n",
    "Now that your network is trained, save the model so you can load it later for making predictions. You probably want to save other things such as the mapping of classes to indices which you get from one of the image datasets: `image_datasets['train'].class_to_idx`. You can attach this to the model as an attribute which makes inference easier later on.\n",
    "\n",
    "```model.class_to_idx = image_datasets['train'].class_to_idx```\n",
    "\n",
    "Remember that you'll want to completely rebuild the model later so you can use it for inference. Make sure to include any information you need in the checkpoint. If you want to load the model and keep training, you'll want to save the number of epochs as well as the optimizer state, `optimizer.state_dict`. You'll likely want to use this trained model in the next part of the project, so best to save it now."
   ]
  },
  {
   "cell_type": "code",
   "execution_count": null,
   "metadata": {},
   "outputs": [],
   "source": [
    "# TODO: Save the checkpoint "
   ]
  },
  {
   "cell_type": "markdown",
   "metadata": {},
   "source": [
    "## Loading the checkpoint\n",
    "\n",
    "At this point it's good to write a function that can load a checkpoint and rebuild the model. That way you can come back to this project and keep working on it without having to retrain the network."
   ]
  },
  {
   "cell_type": "code",
   "execution_count": null,
   "metadata": {},
   "outputs": [],
   "source": [
    "# TODO: Write a function that loads a checkpoint and rebuilds the model"
   ]
  },
  {
   "cell_type": "markdown",
   "metadata": {},
   "source": [
    "# Inference for classification\n",
    "\n",
    "Now you'll write a function to use a trained network for inference. That is, you'll pass an image into the network and predict the class of the flower in the image. Write a function called `predict` that takes an image and a model, then returns the top $K$ most likely classes along with the probabilities. It should look like \n",
    "\n",
    "```python\n",
    "probs, classes = predict(image_path, model)\n",
    "print(probs)\n",
    "print(classes)\n",
    "> [ 0.01558163  0.01541934  0.01452626  0.01443549  0.01407339]\n",
    "> ['70', '3', '45', '62', '55']\n",
    "```\n",
    "\n",
    "First you'll need to handle processing the input image such that it can be used in your network. \n",
    "\n",
    "## Image Preprocessing\n",
    "\n",
    "You'll want to use `PIL` to load the image ([documentation](https://pillow.readthedocs.io/en/latest/reference/Image.html)). It's best to write a function that preprocesses the image so it can be used as input for the model. This function should process the images in the same manner used for training. \n",
    "\n",
    "First, resize the images where the shortest side is 256 pixels, keeping the aspect ratio. This can be done with the [`thumbnail`](http://pillow.readthedocs.io/en/3.1.x/reference/Image.html#PIL.Image.Image.thumbnail) or [`resize`](http://pillow.readthedocs.io/en/3.1.x/reference/Image.html#PIL.Image.Image.thumbnail) methods. Then you'll need to crop out the center 224x224 portion of the image.\n",
    "\n",
    "Color channels of images are typically encoded as integers 0-255, but the model expected floats 0-1. You'll need to convert the values. It's easiest with a Numpy array, which you can get from a PIL image like so `np_image = np.array(pil_image)`.\n",
    "\n",
    "As before, the network expects the images to be normalized in a specific way. For the means, it's `[0.485, 0.456, 0.406]` and for the standard deviations `[0.229, 0.224, 0.225]`. You'll want to subtract the means from each color channel, then divide by the standard deviation. \n",
    "\n",
    "And finally, PyTorch expects the color channel to be the first dimension but it's the third dimension in the PIL image and Numpy array. You can reorder dimensions using [`ndarray.transpose`](https://docs.scipy.org/doc/numpy-1.13.0/reference/generated/numpy.ndarray.transpose.html). The color channel needs to be first and retain the order of the other two dimensions."
   ]
  },
  {
   "cell_type": "code",
   "execution_count": null,
   "metadata": {},
   "outputs": [],
   "source": [
    "def process_image(image):\n",
    "    ''' Scales, crops, and normalizes a PIL image for a PyTorch model,\n",
    "        returns an Numpy array\n",
    "    '''\n",
    "    \n",
    "    # TODO: Process a PIL image for use in a PyTorch model"
   ]
  },
  {
   "cell_type": "markdown",
   "metadata": {},
   "source": [
    "To check your work, the function below converts a PyTorch tensor and displays it in the notebook. If your `process_image` function works, running the output through this function should return the original image (except for the cropped out portions)."
   ]
  },
  {
   "cell_type": "code",
   "execution_count": null,
   "metadata": {},
   "outputs": [],
   "source": [
    "def imshow(image, ax=None, title=None):\n",
    "    \"\"\"Imshow for Tensor.\"\"\"\n",
    "    if ax is None:\n",
    "        fig, ax = plt.subplots()\n",
    "    \n",
    "    # PyTorch tensors assume the color channel is the first dimension\n",
    "    # but matplotlib assumes is the third dimension\n",
    "    image = image.numpy().transpose((1, 2, 0))\n",
    "    \n",
    "    # Undo preprocessing\n",
    "    mean = np.array([0.485, 0.456, 0.406])\n",
    "    std = np.array([0.229, 0.224, 0.225])\n",
    "    image = std * image + mean\n",
    "    \n",
    "    # Image needs to be clipped between 0 and 1 or it looks like noise when displayed\n",
    "    image = np.clip(image, 0, 1)\n",
    "    \n",
    "    ax.imshow(image)\n",
    "    \n",
    "    return ax"
   ]
  },
  {
   "cell_type": "markdown",
   "metadata": {},
   "source": [
    "## Class Prediction\n",
    "\n",
    "Once you can get images in the correct format, it's time to write a function for making predictions with your model. A common practice is to predict the top 5 or so (usually called top-$K$) most probable classes. You'll want to calculate the class probabilities then find the $K$ largest values.\n",
    "\n",
    "To get the top $K$ largest values in a tensor use [`x.topk(k)`](http://pytorch.org/docs/master/torch.html#torch.topk). This method returns both the highest `k` probabilities and the indices of those probabilities corresponding to the classes. You need to convert from these indices to the actual class labels using `class_to_idx` which hopefully you added to the model or from an `ImageFolder` you used to load the data ([see here](#Save-the-checkpoint)). Make sure to invert the dictionary so you get a mapping from index to class as well.\n",
    "\n",
    "Again, this method should take a path to an image and a model checkpoint, then return the probabilities and classes.\n",
    "\n",
    "```python\n",
    "probs, classes = predict(image_path, model)\n",
    "print(probs)\n",
    "print(classes)\n",
    "> [ 0.01558163  0.01541934  0.01452626  0.01443549  0.01407339]\n",
    "> ['70', '3', '45', '62', '55']\n",
    "```"
   ]
  },
  {
   "cell_type": "code",
   "execution_count": null,
   "metadata": {},
   "outputs": [],
   "source": [
    "def predict(image_path, model, topk=5):\n",
    "    ''' Predict the class (or classes) of an image using a trained deep learning model.\n",
    "    '''\n",
    "    \n",
    "    # TODO: Implement the code to predict the class from an image file"
   ]
  },
  {
   "cell_type": "markdown",
   "metadata": {},
   "source": [
    "## Sanity Checking\n",
    "\n",
    "Now that you can use a trained model for predictions, check to make sure it makes sense. Even if the testing accuracy is high, it's always good to check that there aren't obvious bugs. Use `matplotlib` to plot the probabilities for the top 5 classes as a bar graph, along with the input image. It should look like this:\n",
    "\n",
    "<img src='assets/inference_example.png' width=300px>\n",
    "\n",
    "You can convert from the class integer encoding to actual flower names with the `cat_to_name.json` file (should have been loaded earlier in the notebook). To show a PyTorch tensor as an image, use the `imshow` function defined above."
   ]
  },
  {
   "cell_type": "code",
   "execution_count": null,
   "metadata": {},
   "outputs": [],
   "source": [
    "# TODO: Display an image along with the top 5 classes"
   ]
  }
 ],
 "metadata": {
  "kernelspec": {
   "display_name": "Python 3",
   "language": "python",
   "name": "python3"
  },
  "language_info": {
   "codemirror_mode": {
    "name": "ipython",
    "version": 3
   },
   "file_extension": ".py",
   "mimetype": "text/x-python",
   "name": "python",
   "nbconvert_exporter": "python",
   "pygments_lexer": "ipython3",
   "version": "3.7.3"
  },
  "toc": {
   "base_numbering": 1,
   "nav_menu": {},
   "number_sections": true,
   "sideBar": true,
   "skip_h1_title": false,
   "title_cell": "Table of Contents",
   "title_sidebar": "Contents",
   "toc_cell": false,
   "toc_position": {},
   "toc_section_display": true,
   "toc_window_display": true
  }
 },
 "nbformat": 4,
 "nbformat_minor": 2
}
